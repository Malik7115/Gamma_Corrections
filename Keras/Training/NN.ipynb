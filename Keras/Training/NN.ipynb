{
 "cells": [
  {
   "cell_type": "code",
   "execution_count": 1,
   "metadata": {},
   "outputs": [
    {
     "name": "stdout",
     "output_type": "stream",
     "text": [
      "2.1.0\n"
     ]
    }
   ],
   "source": [
    "import tensorflow as tf\n",
    "import numpy as np\n",
    "import os\n",
    "from matplotlib import pyplot as plt\n",
    "import pickle\n",
    "from tensorflow.keras import datasets, layers, models\n",
    "import cv2 as cv\n",
    "\n",
    "path = '/home/ibrahim/Environments/AI/TF/Adaptive_Gamma_Correction/Dataset'\n",
    "print(tf.version.VERSION)"
   ]
  },
  {
   "cell_type": "code",
   "execution_count": 2,
   "metadata": {},
   "outputs": [
    {
     "name": "stdout",
     "output_type": "stream",
     "text": [
      "/home/ibrahim/Environments/AI/TF/Adaptive_Gamma_Correction/Dataset\n"
     ]
    }
   ],
   "source": [
    "os.chdir(path)\n",
    "print(os.getcwd())\n",
    "\n",
    "with open('image_dataset.pickle', 'rb') as data:\n",
    "    p_dataset = pickle.load(data)\n",
    "    \n",
    "with open('labels.pickle', 'rb') as data:\n",
    "    p_labels = pickle.load(data)"
   ]
  },
  {
   "cell_type": "code",
   "execution_count": 3,
   "metadata": {},
   "outputs": [
    {
     "name": "stdout",
     "output_type": "stream",
     "text": [
      "(1005, 30, 30)\n",
      "(1005,)\n"
     ]
    },
    {
     "data": {
      "text/plain": [
       "(1005, 30, 30)"
      ]
     },
     "execution_count": 3,
     "metadata": {},
     "output_type": "execute_result"
    }
   ],
   "source": [
    "print(p_dataset.shape)\n",
    "print(p_labels.shape)\n",
    "img_size = 30\n",
    "\n",
    "###Normalize the images \n",
    "p_dataset.shape"
   ]
  },
  {
   "cell_type": "code",
   "execution_count": 4,
   "metadata": {},
   "outputs": [
    {
     "name": "stdout",
     "output_type": "stream",
     "text": [
      "Model: \"sequential\"\n",
      "_________________________________________________________________\n",
      "Layer (type)                 Output Shape              Param #   \n",
      "=================================================================\n",
      "flatten (Flatten)            (None, 900)               0         \n",
      "_________________________________________________________________\n",
      "dense (Dense)                (None, 256)               230656    \n",
      "_________________________________________________________________\n",
      "dense_1 (Dense)              (None, 1)                 257       \n",
      "=================================================================\n",
      "Total params: 230,913\n",
      "Trainable params: 230,913\n",
      "Non-trainable params: 0\n",
      "_________________________________________________________________\n"
     ]
    }
   ],
   "source": [
    "model = models.Sequential([\n",
    "    layers.Flatten(input_shape=(img_size, img_size)),\n",
    "    layers.Dense(256, activation='relu'),\n",
    "    layers.Dense(1)\n",
    "])\n",
    "model.summary()"
   ]
  },
  {
   "cell_type": "code",
   "execution_count": 5,
   "metadata": {},
   "outputs": [],
   "source": [
    "model.compile(loss='mse',\n",
    "                optimizer='adam',\n",
    "                metrics=['mae', 'mse'])"
   ]
  },
  {
   "cell_type": "code",
   "execution_count": 6,
   "metadata": {},
   "outputs": [
    {
     "name": "stdout",
     "output_type": "stream",
     "text": [
      "Train on 804 samples, validate on 201 samples\n",
      "Epoch 1/20\n",
      "804/804 [==============================] - 0s 584us/sample - loss: 0.1049 - mae: 0.2310 - mse: 0.1049 - val_loss: 0.0206 - val_mae: 0.1139 - val_mse: 0.0206\n",
      "Epoch 2/20\n",
      "804/804 [==============================] - 0s 145us/sample - loss: 0.0046 - mae: 0.0533 - mse: 0.0046 - val_loss: 0.0062 - val_mae: 0.0666 - val_mse: 0.0062\n",
      "Epoch 3/20\n",
      "804/804 [==============================] - 0s 303us/sample - loss: 0.0015 - mae: 0.0293 - mse: 0.0015 - val_loss: 0.0044 - val_mae: 0.0537 - val_mse: 0.0044\n",
      "Epoch 4/20\n",
      "804/804 [==============================] - 0s 230us/sample - loss: 0.0021 - mae: 0.0356 - mse: 0.0021 - val_loss: 0.0072 - val_mae: 0.0721 - val_mse: 0.0072\n",
      "Epoch 5/20\n",
      "804/804 [==============================] - 0s 203us/sample - loss: 8.1165e-04 - mae: 0.0214 - mse: 8.1165e-04 - val_loss: 0.0046 - val_mae: 0.0563 - val_mse: 0.0046\n",
      "Epoch 6/20\n",
      "804/804 [==============================] - 0s 151us/sample - loss: 6.2796e-04 - mae: 0.0198 - mse: 6.2796e-04 - val_loss: 0.0036 - val_mae: 0.0492 - val_mse: 0.0036\n",
      "Epoch 7/20\n",
      "804/804 [==============================] - 0s 147us/sample - loss: 5.2081e-04 - mae: 0.0172 - mse: 5.2081e-04 - val_loss: 0.0043 - val_mae: 0.0547 - val_mse: 0.0043\n",
      "Epoch 8/20\n",
      "804/804 [==============================] - 0s 144us/sample - loss: 3.8530e-04 - mae: 0.0148 - mse: 3.8530e-04 - val_loss: 0.0035 - val_mae: 0.0488 - val_mse: 0.0035\n",
      "Epoch 9/20\n",
      "804/804 [==============================] - 0s 136us/sample - loss: 3.8748e-04 - mae: 0.0151 - mse: 3.8748e-04 - val_loss: 0.0042 - val_mae: 0.0543 - val_mse: 0.0042\n",
      "Epoch 10/20\n",
      "804/804 [==============================] - 0s 181us/sample - loss: 5.1836e-04 - mae: 0.0176 - mse: 5.1836e-04 - val_loss: 0.0053 - val_mae: 0.0603 - val_mse: 0.0053\n",
      "Epoch 11/20\n",
      "804/804 [==============================] - 0s 333us/sample - loss: 5.3604e-04 - mae: 0.0176 - mse: 5.3604e-04 - val_loss: 0.0040 - val_mae: 0.0532 - val_mse: 0.0040\n",
      "Epoch 12/20\n",
      "804/804 [==============================] - 0s 272us/sample - loss: 3.0233e-04 - mae: 0.0135 - mse: 3.0233e-04 - val_loss: 0.0040 - val_mae: 0.0521 - val_mse: 0.0040\n",
      "Epoch 13/20\n",
      "804/804 [==============================] - 0s 301us/sample - loss: 2.7220e-04 - mae: 0.0127 - mse: 2.7220e-04 - val_loss: 0.0037 - val_mae: 0.0508 - val_mse: 0.0037\n",
      "Epoch 14/20\n",
      "804/804 [==============================] - 0s 262us/sample - loss: 2.5348e-04 - mae: 0.0122 - mse: 2.5348e-04 - val_loss: 0.0065 - val_mae: 0.0671 - val_mse: 0.0065\n",
      "Epoch 15/20\n",
      "804/804 [==============================] - 0s 222us/sample - loss: 8.1199e-04 - mae: 0.0224 - mse: 8.1199e-04 - val_loss: 0.0025 - val_mae: 0.0405 - val_mse: 0.0025\n",
      "Epoch 16/20\n",
      "804/804 [==============================] - 0s 313us/sample - loss: 2.5638e-04 - mae: 0.0127 - mse: 2.5638e-04 - val_loss: 0.0023 - val_mae: 0.0370 - val_mse: 0.0023\n",
      "Epoch 17/20\n",
      "804/804 [==============================] - 0s 276us/sample - loss: 2.9566e-04 - mae: 0.0134 - mse: 2.9566e-04 - val_loss: 0.0025 - val_mae: 0.0406 - val_mse: 0.0025\n",
      "Epoch 18/20\n",
      "804/804 [==============================] - 0s 149us/sample - loss: 2.4672e-04 - mae: 0.0123 - mse: 2.4672e-04 - val_loss: 0.0039 - val_mae: 0.0524 - val_mse: 0.0039\n",
      "Epoch 19/20\n",
      "804/804 [==============================] - 0s 142us/sample - loss: 5.7879e-04 - mae: 0.0187 - mse: 5.7879e-04 - val_loss: 0.0025 - val_mae: 0.0367 - val_mse: 0.0025\n",
      "Epoch 20/20\n",
      "804/804 [==============================] - 0s 142us/sample - loss: 0.0024 - mae: 0.0366 - mse: 0.0024 - val_loss: 0.0059 - val_mae: 0.0632 - val_mse: 0.0059\n"
     ]
    }
   ],
   "source": [
    "history = model.fit(p_dataset, p_labels, epochs = 20, shuffle = True, validation_split = 0.2)"
   ]
  },
  {
   "cell_type": "code",
   "execution_count": 7,
   "metadata": {},
   "outputs": [
    {
     "name": "stdout",
     "output_type": "stream",
     "text": [
      "WARNING:tensorflow:From /home/ibrahim/Environments/AI/lib/python3.6/site-packages/tensorflow_core/python/ops/resource_variable_ops.py:1786: calling BaseResourceVariable.__init__ (from tensorflow.python.ops.resource_variable_ops) with constraint is deprecated and will be removed in a future version.\n",
      "Instructions for updating:\n",
      "If using Keras pass *_constraint arguments to layers.\n",
      "INFO:tensorflow:Assets written to: /home/ibrahim/Environments/AI/TF/Adaptive_Gamma_Correction/Models/assets\n"
     ]
    }
   ],
   "source": [
    "#######Saving Model in pb and hd5 files\n",
    "os.chdir('/home/ibrahim/Environments/AI/TF/Adaptive_Gamma_Correction/Models')\n",
    "model.save('/home/ibrahim/Environments/AI/TF/Adaptive_Gamma_Correction/Models')\n",
    "model.save(\"Dense_FC.h5\")"
   ]
  },
  {
   "cell_type": "code",
   "execution_count": 14,
   "metadata": {},
   "outputs": [
    {
     "name": "stdout",
     "output_type": "stream",
     "text": [
      "/home/ibrahim/Environments/AI/TF/Adaptive_Gamma_Correction/Dataset/Test\n"
     ]
    }
   ],
   "source": [
    "test_images_dir = '/home/ibrahim/Environments/AI/TF/Adaptive_Gamma_Correction/Dataset/Test'\n",
    "os.chdir(test_images_dir)\n",
    "print(os.getcwd())"
   ]
  },
  {
   "cell_type": "code",
   "execution_count": 36,
   "metadata": {},
   "outputs": [
    {
     "name": "stdout",
     "output_type": "stream",
     "text": [
      "1.05\n",
      "float64\n"
     ]
    },
    {
     "data": {
      "text/plain": [
       "array([[0.6296504]], dtype=float32)"
      ]
     },
     "execution_count": 36,
     "metadata": {},
     "output_type": "execute_result"
    }
   ],
   "source": [
    "test_img = cv.imread('image01.jpg',0)\n",
    "# test_img = p_dataset[0]\n",
    "test_img = cv.resize(test_img,(img_size,img_size))\n",
    "\n",
    "test_img = np.array(test_img,dtype = 'float64')\n",
    "\n",
    "test_img.shape\n",
    "\n",
    "test_img = np.expand_dims(test_img,0)\n",
    "test_img.shape\n",
    "print(p_labels[0])\n",
    "\n",
    "test_img = test_img/255.0\n",
    "print(test_img.dtype)\n",
    "model.predict(test_img)\n",
    "\n"
   ]
  },
  {
   "cell_type": "code",
   "execution_count": 34,
   "metadata": {},
   "outputs": [
    {
     "data": {
      "text/plain": [
       "dtype('float64')"
      ]
     },
     "execution_count": 34,
     "metadata": {},
     "output_type": "execute_result"
    }
   ],
   "source": []
  },
  {
   "cell_type": "code",
   "execution_count": null,
   "metadata": {},
   "outputs": [],
   "source": []
  }
 ],
 "metadata": {
  "kernelspec": {
   "display_name": "Python 3",
   "language": "python",
   "name": "python3"
  },
  "language_info": {
   "codemirror_mode": {
    "name": "ipython",
    "version": 3
   },
   "file_extension": ".py",
   "mimetype": "text/x-python",
   "name": "python",
   "nbconvert_exporter": "python",
   "pygments_lexer": "ipython3",
   "version": "3.6.9"
  }
 },
 "nbformat": 4,
 "nbformat_minor": 4
}
